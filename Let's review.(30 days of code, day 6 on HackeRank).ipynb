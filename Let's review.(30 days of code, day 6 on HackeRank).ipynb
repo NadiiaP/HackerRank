{
 "cells": [
  {
   "cell_type": "code",
   "execution_count": null,
   "metadata": {},
   "outputs": [],
   "source": [
    "# Enter your code here. Read input from STDIN. Print output to STDOUT\n",
    "\n",
    "import fileinput\n",
    "d = []\n",
    "for line in fileinput.input():\n",
    "    d.append(line)\n",
    "\n",
    "for i in range(len(d)):\n",
    "    d[i] = d[i].replace(\"\\n\", '')\n",
    "\n",
    "for i in range(1, int(d[0])+1):\n",
    "    first = ''\n",
    "    second = ''\n",
    "    for j in range(len(d[i])):\n",
    "        if j%2 == 0:\n",
    "            first = first + d[i][j]\n",
    "        else:\n",
    "            second = second + d[i][j]\n",
    "    print(first + ' ' + second)\n"
   ]
  }
 ],
 "metadata": {
  "kernelspec": {
   "display_name": "Python 3",
   "language": "python",
   "name": "python3"
  },
  "language_info": {
   "codemirror_mode": {
    "name": "ipython",
    "version": 3
   },
   "file_extension": ".py",
   "mimetype": "text/x-python",
   "name": "python",
   "nbconvert_exporter": "python",
   "pygments_lexer": "ipython3",
   "version": "3.8.5"
  }
 },
 "nbformat": 4,
 "nbformat_minor": 4
}
