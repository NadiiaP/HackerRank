{
 "cells": [
  {
   "cell_type": "code",
   "execution_count": null,
   "metadata": {},
   "outputs": [],
   "source": [
    "i = 4\n",
    "d = 4.0\n",
    "s = 'HackerRank '\n",
    "# Declare second integer, double, and String variables.\n",
    "import sys\n",
    "data = sys.stdin.readlines()\n",
    "# Read and save an integer, double, and String to your variables.\n",
    "i2 = int(data[0])\n",
    "d2 = round(float(data[1]), 1)\n",
    "s2 = str(data[2])\n",
    "# Print the sum of both integer variables on a new line.\n",
    "print(i+i2)\n",
    "# Print the sum of the double variables on a new line.\n",
    "print(d+d2)\n",
    "# Concatenate and print the String variables on a new line\n",
    "# The 's' variable above should be printed first.\n",
    "print(s+s2)"
   ]
  }
 ],
 "metadata": {
  "kernelspec": {
   "display_name": "Python 3",
   "language": "python",
   "name": "python3"
  },
  "language_info": {
   "codemirror_mode": {
    "name": "ipython",
    "version": 3
   },
   "file_extension": ".py",
   "mimetype": "text/x-python",
   "name": "python",
   "nbconvert_exporter": "python",
   "pygments_lexer": "ipython3",
   "version": "3.8.5"
  }
 },
 "nbformat": 4,
 "nbformat_minor": 4
}
