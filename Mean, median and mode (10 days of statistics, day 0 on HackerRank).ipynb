{
 "cells": [
  {
   "cell_type": "code",
   "execution_count": null,
   "metadata": {},
   "outputs": [],
   "source": [
    "# Enter your code here. Read input from STDIN. Print output to STDOUT\n",
    "import sys\n",
    "data = sys.stdin.readlines()\n",
    "N = int(data[0])\n",
    "str_X = data[1].split(' ')\n",
    "X = [int(i) for i in str_X]\n",
    "\n",
    "\n",
    "mean = sum(X)/N\n",
    "\n",
    "\n",
    "sorted_X = X.sort()\n",
    "\n",
    "if N%2 == 0:\n",
    "    median = (X[int(N/2)] + X[int(N/2)-1])/2\n",
    "else:\n",
    "    median = X[int(N/2)]\n",
    "\n",
    "\n",
    "import collections\n",
    "collect = collections.Counter(X)\n",
    "dict_values = collect.values()\n",
    "l = []\n",
    "for num, val in collect.items():\n",
    "    if val == max(dict_values):\n",
    "        l.append(num)\n",
    "mode = min(l)\n",
    " \n",
    "\n",
    "sys.stdout.write(str(mean))\n",
    "print()\n",
    "sys.stdout.write(str(median))\n",
    "print()\n",
    "sys.stdout.write(str(mode))\n"
   ]
  }
 ],
 "metadata": {
  "kernelspec": {
   "display_name": "Python 3",
   "language": "python",
   "name": "python3"
  },
  "language_info": {
   "codemirror_mode": {
    "name": "ipython",
    "version": 3
   },
   "file_extension": ".py",
   "mimetype": "text/x-python",
   "name": "python",
   "nbconvert_exporter": "python",
   "pygments_lexer": "ipython3",
   "version": "3.8.5"
  }
 },
 "nbformat": 4,
 "nbformat_minor": 4
}
